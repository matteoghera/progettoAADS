{
 "cells": [
  {
   "cell_type": "markdown",
   "metadata": {},
   "source": [
    "Usando le Figure 1 e 2 dell'articolo come guida. Si osserva che il numero totale di passi orizzontali ad altezza 0 di tutti i cammini 2-Motzkin di lunghezza $n$  è dato dalla seguente espressione:\n",
    "$$L_0=[z^n]2zC^4=\\frac{4n}{(n+1)(n+3)}\\binom{2n+2}{n}$$"
   ]
  },
  {
   "cell_type": "markdown",
   "metadata": {},
   "source": [
    "Il numero totale di passi orizzontali ad altezza 1 di tutti cammini 2-Montzkin di lunghezza $n$ è dato dalla seguente espressione:\n",
    "$$L_1=[z^n]2z^3C^8=\\frac{8}{n+1}\\binom{2n+2}{n-3}$$"
   ]
  },
  {
   "cell_type": "markdown",
   "metadata": {},
   "source": [
    "Il numero totale di passi orizzontali ad altezza generica $k$ di tutti cammini 2-Montzkin di lunghezza $n$ è dato dalla seguente espressione:\n",
    "$$L_k=[z^n]2z^{2k+1}C^{4k+4}=\\sum_{k\\geq1}2\\binom{2n}{n-1}z^n$$"
   ]
  },
  {
   "cell_type": "markdown",
   "metadata": {},
   "source": [
    "Dimostriamo sperimentalmente le precedenti identità."
   ]
  },
  {
   "cell_type": "code",
   "execution_count": 1,
   "metadata": {},
   "outputs": [],
   "source": [
    "from sympy.abc import * # a collection of already-defined terms, such as `alpha, a, b, x, y, t, ...`\n",
    "from sympy import *\n",
    "from commons import *\n",
    "\n",
    "init_printing()"
   ]
  },
  {
   "cell_type": "code",
   "execution_count": 2,
   "metadata": {},
   "outputs": [],
   "source": [
    "#crea tutte le possibili sequenze di lunghezza N composte da solo n elementi\n",
    "\n",
    "def createAllSequenceList(N, n):\n",
    "    result=[]\n",
    "    x=[0 for i in range(N)] #inizia costruendo la sequenza nulla\n",
    "    result.append(x.copy())\n",
    "\n",
    "    j=N-1\n",
    "    k=N-1\n",
    "    while k>=0:\n",
    "        if x[j]+1==n: #l'elemento della sequenza è massimo\n",
    "            k=j\n",
    "            while x[k]+1==n and k>=0: #cerco il primo elenmento non massimo\n",
    "                k=k-1\n",
    "            if k>=0:\n",
    "                x[k]=x[k]+1\n",
    "                j=N-1\n",
    "                for i in range(k+1, N): #metto a zero tutti gli elementi a destra di quello implementato\n",
    "                    x[i] = 0\n",
    "        else: #l'elemento della sequenza non è il massimo: posso incrementare\n",
    "            x[j]=x[j]+1\n",
    "        result.append(x.copy())#aggiungo la sequenza corrente in coda alla lista\n",
    "    result.pop()\n",
    "    return result"
   ]
  },
  {
   "cell_type": "code",
   "execution_count": 3,
   "metadata": {},
   "outputs": [],
   "source": [
    "#Data la lista delle sequenze di dimensione N con numeri fra 0 e 3. Restituisco le sequenze che rappresentano i cammini\n",
    "#2-Motzkin di lunghezza N\n",
    "\n",
    "def find2MontzkinPath(N, L):\n",
    "    temp=L.copy()\n",
    "    for k in range(len(temp)):\n",
    "        s=temp[k]       #considero la sequenza k-esima\n",
    "        stack=[]        \n",
    "        for i in range(N):\n",
    "            if s[i]==0:\n",
    "                stack.append(0)     #uso una pila per ricordami che ho fatto un passo verso l'alto \n",
    "            if s[i]==3:\n",
    "                if len(stack)!=0:\n",
    "                    stack.remove(0)\n",
    "                else:\n",
    "                    temp[k]=0     #le sequenze scartate vengono eliminate ponendo a zero la cella della lista\n",
    "        if len(stack)>0:    #mi assicuro di essere sull'asse delle x\n",
    "            temp[k] = 0\n",
    "\n",
    "    result=[]\n",
    "    for i in range(len(temp)):   #creo una lista con le sequenze che rappresentano i cammini 2-Motzkin: ignoro gli 0 \n",
    "        if temp[i]!=0:\n",
    "            result.append(temp[i])\n",
    "    return result\n"
   ]
  },
  {
   "cell_type": "code",
   "execution_count": 8,
   "metadata": {},
   "outputs": [
    {
     "data": {
      "image/png": "[encoded data removed]",
      "text/latex": [
       "$$\\left( n \\mapsto \\frac{4 n {\\binom{2 n + 2}{n}}}{\\left(n + 1\\right) \\left(n + 3\\right)} \\right)$$"
      ],
      "text/plain": [
       "         ⎛2⋅n + 2⎞ \n",
       "     4⋅n⋅⎜       ⎟ \n",
       "         ⎝   n   ⎠ \n",
       "n ↦ ───────────────\n",
       "    (n + 1)⋅(n + 3)"
      ]
     },
     "execution_count": 8,
     "metadata": {},
     "output_type": "execute_result"
    }
   ],
   "source": [
    "#definisco L0\n",
    "L0=Lambda([n], 4*n/((n+1)*(n+3))*binomial(2*n+2,n))\n",
    "L0"
   ]
  },
  {
   "cell_type": "code",
   "execution_count": 7,
   "metadata": {},
   "outputs": [
    {
     "data": {
      "image/png": "[encoded data removed]",
      "text/latex": [
       "$$\\left( n \\mapsto \\frac{8}{n + 1} {\\binom{2 n + 2}{n - 3}} \\right)$$"
      ],
      "text/plain": [
       "      ⎛2⋅n + 2⎞\n",
       "    8⋅⎜       ⎟\n",
       "      ⎝ n - 3 ⎠\n",
       "n ↦ ───────────\n",
       "       n + 1   "
      ]
     },
     "execution_count": 7,
     "metadata": {},
     "output_type": "execute_result"
    }
   ],
   "source": [
    "#definisco L1\n",
    "L1=Lambda([n], 8/(n+1)*binomial(2*n+2,n-3))\n",
    "L1"
   ]
  },
  {
   "cell_type": "code",
   "execution_count": 10,
   "metadata": {},
   "outputs": [
    {
     "data": {
      "image/png": "[encoded data removed]",
      "text/latex": [
       "$$\\left( n \\mapsto 2 {\\binom{2 n}{n - 1}} \\right)$$"
      ],
      "text/plain": [
       "      ⎛ 2⋅n ⎞\n",
       "n ↦ 2⋅⎜     ⎟\n",
       "      ⎝n - 1⎠"
      ]
     },
     "execution_count": 10,
     "metadata": {},
     "output_type": "execute_result"
    }
   ],
   "source": [
    "#definisco Lk\n",
    "Lk=Lambda([n], 2*binomial(2*n, n-1))\n",
    "Lk"
   ]
  },
  {
   "cell_type": "code",
   "execution_count": 11,
   "metadata": {},
   "outputs": [],
   "source": [
    "from math import ceil"
   ]
  },
  {
   "cell_type": "code",
   "execution_count": 12,
   "metadata": {},
   "outputs": [],
   "source": [
    "#Determina per una sequenza 2-Motzkin di lunghezza N il numero di passi orizzontali a ciascun livello. Restituisce un array in cui in ogni cella i\n",
    "#viene riportato il numero di passi orizzontali a livello i.\n",
    "def numberOfLevelStepsSequence(S):\n",
    "    N=len(S)\n",
    "    r=[]\n",
    "    n=ceil(N/2)\n",
    "    for i in range(n):\n",
    "        r.append(0)\n",
    "\n",
    "    level=0\n",
    "    for step in S:\n",
    "        if step==0:\n",
    "            level=level+1\n",
    "        elif step==3:\n",
    "            level=level-1\n",
    "        else:\n",
    "            if step==1 or step==2:\n",
    "                r[level]=r[level]+1\n",
    "\n",
    "    return r\n"
   ]
  },
  {
   "cell_type": "code",
   "execution_count": 13,
   "metadata": {},
   "outputs": [],
   "source": [
    "#Calcolo il numero totale di passi orizzontali per ogni sequenza 2-Motzkin di lunghezza N. Restituisce un array contenente in ogni cella i\n",
    "#il totale dei passi orizzontali al livello i.\n",
    "def numberOfLevelSteps(N, L):\n",
    "    numberOfSteps = []\n",
    "    for i in range(len(L)):\n",
    "        r = numberOfLevelStepsSequence(L[i])\n",
    "        r=r.copy()\n",
    "        if i==0:\n",
    "            numberOfSteps=r\n",
    "        else:\n",
    "            for j in range(len(r)):\n",
    "                numberOfSteps[j]=numberOfSteps[j]+r[j]\n",
    "\n",
    "    return numberOfSteps"
   ]
  },
  {
   "cell_type": "code",
   "execution_count": 29,
   "metadata": {},
   "outputs": [],
   "source": [
    "#Uso questa procedura per dimostrare che valgono le identità\n",
    "def provaTutte(N, level):\n",
    "    numberOfSteps=0\n",
    "    L=createAllSequenceList(N, 4)\n",
    "    L=find2MontzkinPath(N, L)\n",
    "    r=numberOfLevelSteps(N,L)\n",
    "    if level==-1:\n",
    "        sum=0\n",
    "        for c in r:\n",
    "            sum=sum+c\n",
    "        numberOfSteps=sum\n",
    "    else:\n",
    "        numberOfSteps=r[level]\n",
    "    return numberOfSteps\n",
    "            "
   ]
  },
  {
   "cell_type": "code",
   "execution_count": 34,
   "metadata": {},
   "outputs": [
    {
     "data": {
      "image/png": "[encoded data removed]",
      "text/latex": [
       "$$\\left [ \\left [ 2, \\quad 2\\right ], \\quad \\left [ 8, \\quad 8\\right ], \\quad \\left [ 28, \\quad 28\\right ], \\quad \\left [ 96, \\quad 96\\right ], \\quad \\left [ 330, \\quad 330\\right ], \\quad \\left [ 1144, \\quad 1144\\right ], \\quad \\left [ 4004, \\quad 4004\\right ], \\quad \\left [ 14144, \\quad 14144\\right ], \\quad \\left [ 50388, \\quad 50388\\right ]\\right ]$$"
      ],
      "text/plain": [
       "[[2, 2], [8, 8], [28, 28], [96, 96], [330, 330], [1144, 1144], [4004, 4004], [\n",
       "14144, 14144], [50388, 50388]]"
      ]
     },
     "execution_count": 34,
     "metadata": {},
     "output_type": "execute_result"
    }
   ],
   "source": [
    "#Livello 0\n",
    "[[provaTutte(i, 0), L0(i)] for i in range(1,10)]"
   ]
  },
  {
   "cell_type": "code",
   "execution_count": 30,
   "metadata": {},
   "outputs": [
    {
     "data": {
      "image/png": "[encoded data removed]",
      "text/latex": [
       "$$2$$"
      ],
      "text/plain": [
       "2"
      ]
     },
     "execution_count": 30,
     "metadata": {},
     "output_type": "execute_result"
    }
   ],
   "source": []
  },
  {
   "cell_type": "code",
   "execution_count": null,
   "metadata": {},
   "outputs": [],
   "source": []
  }
 ],
 "metadata": {
  "kernelspec": {
   "display_name": "Python 3",
   "language": "python",
   "name": "python3"
  },
  "language_info": {
   "codemirror_mode": {
    "name": "ipython",
    "version": 3
   },
   "file_extension": ".py",
   "mimetype": "text/x-python",
   "name": "python",
   "nbconvert_exporter": "python",
   "pygments_lexer": "ipython3",
   "version": "3.7.0"
  }
 },
 "nbformat": 4,
 "nbformat_minor": 2
}
