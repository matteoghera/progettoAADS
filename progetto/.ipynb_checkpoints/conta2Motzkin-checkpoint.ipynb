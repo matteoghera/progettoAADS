{
 "cells": [
  {
   "cell_type": "markdown",
   "metadata": {},
   "source": [
    "Un cammino 2-Motzkin è un cammino nel piano di lunghezza $n$ con inizio in $(0, 0)$ e fine in $(n, 0)$ in cui i possibili passi sono: $U$ muove verso l'alto a destra, $D$ muove verso il basso a destra, $L$ muove in orizzontale. Abbiamo passi orizzontali di due colori diversi: rosso e verde. Un cammino 2-Motzkin si trova sempre all'interno del semipiano positivo."
   ]
  },
  {
   "cell_type": "markdown",
   "metadata": {},
   "source": [
    "In questo Notebook verifico che il numero di cammini 2-Motzkin è uguale a $$C^2=\\frac{1}{n+1}\\binom{2n+2}{n}$$"
   ]
  },
  {
   "cell_type": "markdown",
   "metadata": {},
   "source": [
    "Identifichiamo ogni possibile passo con un numero intero positivo: 0 movimento verso l'alto a destra, 1 movimento in orizzontale rosso, 2 movimento orizzontale verde, 3 movimento verso il basso a destra. L'idea consiste ne determinare tutte le sequenze di lunghezza $n$ composte da 4 elementi (0, 1, 2 e 3) ed eliminare le sequenze che non rappresentano un cammino 2-Motzkin. Dopodiché verifico che il numero di cammini ottenuti è uguale a $C^2$"
   ]
  },
  {
   "cell_type": "code",
   "execution_count": 6,
   "metadata": {},
   "outputs": [],
   "source": [
    "from sympy.abc import * # a collection of already-defined terms, such as `alpha, a, b, x, y, t, ...`\n",
    "\n",
    "from sympy import *\n",
    "from sympy.plotting import plot"
   ]
  },
  {
   "cell_type": "code",
   "execution_count": 8,
   "metadata": {},
   "outputs": [],
   "source": [
    "from commons import * # import our own functions, to define things in particular."
   ]
  },
  {
   "cell_type": "code",
   "execution_count": 9,
   "metadata": {},
   "outputs": [],
   "source": [
    "init_printing()"
   ]
  },
  {
   "cell_type": "code",
   "execution_count": 10,
   "metadata": {},
   "outputs": [
    {
     "data": {
      "image/png": "[encoded data removed]",
      "text/latex": [
       "$$\\left( n \\mapsto \\frac{{\\binom{2 n + 2}{n}}}{n + 1} \\right)$$"
      ],
      "text/plain": [
       "    ⎛2⋅n + 2⎞\n",
       "    ⎜       ⎟\n",
       "    ⎝   n   ⎠\n",
       "n ↦ ─────────\n",
       "      n + 1  "
      ]
     },
     "execution_count": 10,
     "metadata": {},
     "output_type": "execute_result"
    }
   ],
   "source": [
    "#definisco C2\n",
    "C2=Lambda([n], 1/(n+1)*binomial((2*n+2),n))\n",
    "C2"
   ]
  },
  {
   "cell_type": "code",
   "execution_count": 11,
   "metadata": {},
   "outputs": [
    {
     "data": {
      "image/png": "[encoded data removed]",
      "text/latex": [
       "$$14$$"
      ],
      "text/plain": [
       "14"
      ]
     },
     "execution_count": 11,
     "metadata": {},
     "output_type": "execute_result"
    }
   ],
   "source": [
    "C2(3)"
   ]
  },
  {
   "cell_type": "code",
   "execution_count": null,
   "metadata": {},
   "outputs": [],
   "source": []
  }
 ],
 "metadata": {
  "kernelspec": {
   "display_name": "Python 3",
   "language": "python",
   "name": "python3"
  },
  "language_info": {
   "codemirror_mode": {
    "name": "ipython",
    "version": 3
   },
   "file_extension": ".py",
   "mimetype": "text/x-python",
   "name": "python",
   "nbconvert_exporter": "python",
   "pygments_lexer": "ipython3",
   "version": "3.7.0"
  }
 },
 "nbformat": 4,
 "nbformat_minor": 2
}
