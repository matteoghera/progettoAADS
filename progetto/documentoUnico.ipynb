{
 "cells": [
  {
   "cell_type": "markdown",
   "metadata": {},
   "source": [
    "# Progetto di ***Analysyis of Algorithms and Data Structures***"
   ]
  },
  {
   "cell_type": "markdown",
   "metadata": {},
   "source": [
    "**Fiorentino Federico** - federico.fiorentino@stud.unifi.it   \n",
    "**Ghera Matteo** - matteo.ghera@stud.unifi.it  \n",
    "**Collodi Luisa** - luisa.collodi@stud.unifi.it"
   ]
  },
  {
   "cell_type": "markdown",
   "metadata": {},
   "source": [
    "L'obiettivo di questo progetto è l'analisi dei *2-Motzkin paths*, attraverso la verifica di alcuni risultati che li riguardano, sulla base dell'articolo: *\"The Fine numbers refined\"* di Cheon, Gu-Lee e Shapiro. "
   ]
  },
  {
   "cell_type": "markdown",
   "metadata": {},
   "source": [
    "## Definizione\n",
    "I ***2-Motzkin paths*** sono cammini nel piano di lunghezza $n$ con inizio in $(0, 0)$ e fine in $(n, 0)$, in cui i possibili passi sono: \n",
    "- passo verso l'alto: $U$=(1,1)\n",
    "- passo verso il basso: $D$=(1,-1)\n",
    "- passo in orizzontale: $L$=(1,0)\n",
    "\n",
    "Da notare poi che i passi orizzontali possono essere di due colori diversi: rosso e verde. Inoltre si richiede che il path rimanga sempre all'interno del semipiano positivo. In particolare il numero dei cammini 2-Motzkin è pari a $C_{n+1}$, dove $C_n$ è l'n-esimo numero di Catalan.  \n",
    "I ***2-Motzkin Fine paths*** sono dei cammini 2-Motzkin senza passi in orizzontale ad altezza 0. L'insieme di tutti i cammini Fine che terminano in $(n, 0)$ è indicato con $\\mathcal{F}_n$, dove gli $F_n=|\\mathcal{F}_n|$ sono detti: *Fine numbers*, la cui funzione generatrice é: $$F=\\sum_{n=0}^{\\infty}F_nz^n=\\frac{1-\\sqrt{1-4z}}{z(3-\\sqrt{1-4z})}$$"
   ]
  },
  {
   "cell_type": "markdown",
   "metadata": {},
   "source": [
    "## Risultati iniziali\n",
    "Mostriamo ora la verifica di alcuni risultati che saranno necessari successivamente. In particolare usando le seguenti identità che riguardano la funzione generatrice dei numeri di Catalan: \n",
    "$$ C=1+zC^2=\\frac{1-\\sqrt{1-4z}}{2z}=\\sum_{n\\geq0}\\frac{1}{n+1}\\binom{2n}{n}z^n$$\n",
    "$$ B=1+2zBC=\\frac{1}{\\sqrt{1-4z}}=\\sum_{n\\geq0}\\binom{2n}{n}z^n$$\n",
    "Si verificano le seguenti proprietà:\n",
    "<ol>    \n",
    "    <li> $$\\frac{B}{C}=\\frac{B+1}{2}$$ </li><br /><br />\n",
    "    <li> $$C=\\frac{F}{1-zF} $$</li><br /><br />\n",
    "    <li> $$C^2=\\frac{F}{1-2zF}$$</li> \n",
    "</ol>\n",
    "In cui $C^2$ è la funzione generatrice che conta il camminini 2-Motzkin."
   ]
  },
  {
   "cell_type": "code",
   "execution_count": 2,
   "metadata": {},
   "outputs": [],
   "source": [
    "from sympy.abc import * # a collection of already-defined terms, such as `alpha, a, b, x, y, t, ...`\n",
    "\n",
    "from sympy import *\n",
    "from sympy.plotting import plot\n",
    "from commons import * # import our own functions, to define things in particular.\n",
    "init_printing()"
   ]
  },
  {
   "cell_type": "markdown",
   "metadata": {},
   "source": [
    "Si definiscono F, G e B:"
   ]
  },
  {
   "cell_type": "code",
   "execution_count": 3,
   "metadata": {},
   "outputs": [
    {
     "data": {
      "image/png": "[encoded data removed]",
      "text/latex": [
       "$$F = \\frac{- \\sqrt{- 4 z + 1} + 1}{z \\left(- \\sqrt{- 4 z + 1} + 3\\right)}$$"
      ],
      "text/plain": [
       "          __________      \n",
       "      - ╲╱ -4⋅z + 1  + 1  \n",
       "F = ──────────────────────\n",
       "      ⎛    __________    ⎞\n",
       "    z⋅⎝- ╲╱ -4⋅z + 1  + 3⎠"
      ]
     },
     "execution_count": 3,
     "metadata": {},
     "output_type": "execute_result"
    }
   ],
   "source": [
    "#definisco F\n",
    "expression_F=(1-sqrt(1-4*z))/(z*(3-sqrt(1-4*z)))\n",
    "eq_F=define(F, expression_F)\n",
    "eq_F"
   ]
  },
  {
   "cell_type": "code",
   "execution_count": 4,
   "metadata": {},
   "outputs": [
    {
     "data": {
      "image/png": "[encoded data removed]",
      "text/latex": [
       "$$G = \\frac{- \\sqrt{- 4 z + 1} + 1}{2 z}$$"
      ],
      "text/plain": [
       "        __________    \n",
       "    - ╲╱ -4⋅z + 1  + 1\n",
       "G = ──────────────────\n",
       "           2⋅z        "
      ]
     },
     "execution_count": 4,
     "metadata": {},
     "output_type": "execute_result"
    }
   ],
   "source": [
    "#definisco C\n",
    "expression_C=(1-sqrt(1-4*z))/(2*z)\n",
    "eq_C=define(G, expression_C)\n",
    "eq_C"
   ]
  },
  {
   "cell_type": "code",
   "execution_count": 5,
   "metadata": {},
   "outputs": [
    {
     "data": {
      "image/png": "[encoded data removed]",
      "text/latex": [
       "$$B = \\frac{1}{\\sqrt{- 4 z + 1}}$$"
      ],
      "text/plain": [
       "         1      \n",
       "B = ────────────\n",
       "      __________\n",
       "    ╲╱ -4⋅z + 1 "
      ]
     },
     "execution_count": 5,
     "metadata": {},
     "output_type": "execute_result"
    }
   ],
   "source": [
    "#definisco B\n",
    "expression_B=1/sqrt(1-4*z)\n",
    "eq_B=define(B, expression_B)\n",
    "eq_B"
   ]
  },
  {
   "cell_type": "markdown",
   "metadata": {},
   "source": [
    "Si verifica quindi (1): $\\frac{B}{C}=\\frac{B+1}{2}$"
   ]
  },
  {
   "cell_type": "code",
   "execution_count": 6,
   "metadata": {},
   "outputs": [
    {
     "data": {
      "image/png": "[encoded data removed]",
      "text/latex": [
       "$$\\frac{2 z}{4 z + \\sqrt{- 4 z + 1} - 1}$$"
      ],
      "text/plain": [
       "         2⋅z          \n",
       "──────────────────────\n",
       "        __________    \n",
       "4⋅z + ╲╱ -4⋅z + 1  - 1"
      ]
     },
     "execution_count": 6,
     "metadata": {},
     "output_type": "execute_result"
    }
   ],
   "source": [
    "eq_left=eq_B.rhs/eq_C.rhs\n",
    "simplify(eq_left)"
   ]
  },
  {
   "cell_type": "code",
   "execution_count": 7,
   "metadata": {},
   "outputs": [
    {
     "data": {
      "image/png": "[encoded data removed]",
      "text/latex": [
       "$$\\frac{1}{2} + \\frac{1}{2 \\sqrt{- 4 z + 1}}$$"
      ],
      "text/plain": [
       "1         1       \n",
       "─ + ──────────────\n",
       "2       __________\n",
       "    2⋅╲╱ -4⋅z + 1 "
      ]
     },
     "execution_count": 7,
     "metadata": {},
     "output_type": "execute_result"
    }
   ],
   "source": [
    "eq_right=(eq_B.rhs+1)/2\n",
    "simplify(eq_right)"
   ]
  },
  {
   "cell_type": "code",
   "execution_count": 8,
   "metadata": {},
   "outputs": [
    {
     "data": {
      "image/png": "[encoded data removed]",
      "text/latex": [
       "$$0$$"
      ],
      "text/plain": [
       "0"
      ]
     },
     "execution_count": 8,
     "metadata": {},
     "output_type": "execute_result"
    }
   ],
   "source": [
    "simplify(eq_left-eq_right)"
   ]
  },
  {
   "cell_type": "markdown",
   "metadata": {},
   "source": [
    "Si verifica quindi (2): $C=\\frac{F}{1-zF}$"
   ]
  },
  {
   "cell_type": "code",
   "execution_count": 9,
   "metadata": {},
   "outputs": [
    {
     "data": {
      "image/png": "[encoded data removed]",
      "text/latex": [
       "$$\\frac{- \\sqrt{- 4 z + 1} + 1}{2 z}$$"
      ],
      "text/plain": [
       "    __________    \n",
       "- ╲╱ -4⋅z + 1  + 1\n",
       "──────────────────\n",
       "       2⋅z        "
      ]
     },
     "execution_count": 9,
     "metadata": {},
     "output_type": "execute_result"
    }
   ],
   "source": [
    "eq_right=(eq_F.rhs)/(1-(z*eq_F.rhs))\n",
    "simplify(eq_right)"
   ]
  },
  {
   "cell_type": "code",
   "execution_count": 10,
   "metadata": {},
   "outputs": [
    {
     "data": {
      "image/png": "[encoded data removed]",
      "text/latex": [
       "$$0$$"
      ],
      "text/plain": [
       "0"
      ]
     },
     "execution_count": 10,
     "metadata": {},
     "output_type": "execute_result"
    }
   ],
   "source": [
    "simplify(eq_right-(eq_C.rhs))"
   ]
  },
  {
   "cell_type": "markdown",
   "metadata": {},
   "source": [
    "Si verifica quindi (3): $C^2=\\frac{F}{1-2zF}$"
   ]
  },
  {
   "cell_type": "code",
   "execution_count": 11,
   "metadata": {},
   "outputs": [
    {
     "data": {
      "image/png": "[encoded data removed]",
      "text/latex": [
       "$$\\frac{- \\sqrt{- 4 z + 1} + 1}{z \\left(\\sqrt{- 4 z + 1} + 1\\right)}$$"
      ],
      "text/plain": [
       "     __________     \n",
       " - ╲╱ -4⋅z + 1  + 1 \n",
       "────────────────────\n",
       "  ⎛  __________    ⎞\n",
       "z⋅⎝╲╱ -4⋅z + 1  + 1⎠"
      ]
     },
     "execution_count": 11,
     "metadata": {},
     "output_type": "execute_result"
    }
   ],
   "source": [
    "#calcolo di C2\n",
    "eq_right=simplify(eq_F.rhs/(1-(2*z*eq_F.rhs)))\n",
    "f=Lambda([z],eq_right)\n",
    "eq_right"
   ]
  },
  {
   "cell_type": "code",
   "execution_count": 12,
   "metadata": {},
   "outputs": [
    {
     "data": {
      "image/png": "[encoded data removed]",
      "text/latex": [
       "$$1 + 2 z + 5 z^{2} + 14 z^{3} + 42 z^{4} + 132 z^{5} + 429 z^{6} + 1430 z^{7} + 4862 z^{8} + 16796 z^{9} + 58786 z^{10} + 208012 z^{11} + 742900 z^{12} + 2674440 z^{13} + 9694845 z^{14} + 35357670 z^{15} + 129644790 z^{16} + 477638700 z^{17} + 1767263190 z^{18} + 6564120420 z^{19} + O\\left(z^{20}\\right)$$"
      ],
      "text/plain": [
       "             2       3       4        5        6         7         8          \n",
       "1 + 2⋅z + 5⋅z  + 14⋅z  + 42⋅z  + 132⋅z  + 429⋅z  + 1430⋅z  + 4862⋅z  + 16796⋅z\n",
       "\n",
       "9          10           11           12            13            14           \n",
       "  + 58786⋅z   + 208012⋅z   + 742900⋅z   + 2674440⋅z   + 9694845⋅z   + 35357670\n",
       "\n",
       "  15              16              17               18               19    ⎛ 20\n",
       "⋅z   + 129644790⋅z   + 477638700⋅z   + 1767263190⋅z   + 6564120420⋅z   + O⎝z  \n",
       "\n",
       "⎞\n",
       "⎠"
      ]
     },
     "execution_count": 12,
     "metadata": {},
     "output_type": "execute_result"
    }
   ],
   "source": [
    "g=Lambda([z],eq_C.rhs)\n",
    "series1=series(g(z), z, n=20)\n",
    "series2=series1*series1\n",
    "series2=Lambda([z], series2)\n",
    "series2=series(series2(z), z, n=20)\n",
    "series2"
   ]
  },
  {
   "cell_type": "code",
   "execution_count": 13,
   "metadata": {},
   "outputs": [
    {
     "data": {
      "image/png": "[encoded data removed]",
      "text/latex": [
       "$$1 + 2 z + 5 z^{2} + 14 z^{3} + 42 z^{4} + 132 z^{5} + 429 z^{6} + 1430 z^{7} + 4862 z^{8} + 16796 z^{9} + 58786 z^{10} + 208012 z^{11} + 742900 z^{12} + 2674440 z^{13} + 9694845 z^{14} + 35357670 z^{15} + 129644790 z^{16} + 477638700 z^{17} + 1767263190 z^{18} + 6564120420 z^{19} + O\\left(z^{20}\\right)$$"
      ],
      "text/plain": [
       "             2       3       4        5        6         7         8          \n",
       "1 + 2⋅z + 5⋅z  + 14⋅z  + 42⋅z  + 132⋅z  + 429⋅z  + 1430⋅z  + 4862⋅z  + 16796⋅z\n",
       "\n",
       "9          10           11           12            13            14           \n",
       "  + 58786⋅z   + 208012⋅z   + 742900⋅z   + 2674440⋅z   + 9694845⋅z   + 35357670\n",
       "\n",
       "  15              16              17               18               19    ⎛ 20\n",
       "⋅z   + 129644790⋅z   + 477638700⋅z   + 1767263190⋅z   + 6564120420⋅z   + O⎝z  \n",
       "\n",
       "⎞\n",
       "⎠"
      ]
     },
     "execution_count": 13,
     "metadata": {},
     "output_type": "execute_result"
    }
   ],
   "source": [
    "series(f(z), z, n=20)"
   ]
  },
  {
   "cell_type": "markdown",
   "metadata": {},
   "source": [
    "Si procede ora con la verifica del seguente teorema:\n",
    "\n",
    "### ***Teorema 2.1***  \n",
    "Sia $F$ la funzione generatrice dei *Fine numbers*. Allora vale la seguente identità:  \n",
    "$$(z^2+2z)F^2-(2z+1)F+1=0$$"
   ]
  },
  {
   "cell_type": "code",
   "execution_count": 14,
   "metadata": {},
   "outputs": [
    {
     "data": {
      "image/png": "[encoded data removed]",
      "text/latex": [
       "$$F^{2} \\left(z^{2} + 2 z\\right) - F \\left(2 z + 1\\right) + 1$$"
      ],
      "text/plain": [
       " 2 ⎛ 2      ⎞                  \n",
       "F ⋅⎝z  + 2⋅z⎠ - F⋅(2⋅z + 1) + 1"
      ]
     },
     "execution_count": 14,
     "metadata": {},
     "output_type": "execute_result"
    }
   ],
   "source": [
    "expr=(((pow(z,2)+2*z)*pow(F,2)-((2*z+1)*F)+1))\n",
    "expr"
   ]
  },
  {
   "cell_type": "code",
   "execution_count": 15,
   "metadata": {},
   "outputs": [
    {
     "data": {
      "image/png": "[encoded data removed]",
      "text/latex": [
       "$$1 - \\frac{\\left(2 z + 1\\right) \\left(- \\sqrt{- 4 z + 1} + 1\\right)}{z \\left(- \\sqrt{- 4 z + 1} + 3\\right)} + \\frac{\\left(z^{2} + 2 z\\right) \\left(- \\sqrt{- 4 z + 1} + 1\\right)^{2}}{z^{2} \\left(- \\sqrt{- 4 z + 1} + 3\\right)^{2}}$$"
      ],
      "text/plain": [
       "                                                                    2\n",
       "              ⎛    __________    ⎞   ⎛ 2      ⎞ ⎛    __________    ⎞ \n",
       "    (2⋅z + 1)⋅⎝- ╲╱ -4⋅z + 1  + 1⎠   ⎝z  + 2⋅z⎠⋅⎝- ╲╱ -4⋅z + 1  + 1⎠ \n",
       "1 - ────────────────────────────── + ────────────────────────────────\n",
       "          ⎛    __________    ⎞                                  2    \n",
       "        z⋅⎝- ╲╱ -4⋅z + 1  + 3⎠            2 ⎛    __________    ⎞     \n",
       "                                         z ⋅⎝- ╲╱ -4⋅z + 1  + 3⎠     "
      ]
     },
     "execution_count": 15,
     "metadata": {},
     "output_type": "execute_result"
    }
   ],
   "source": [
    "T=expr.subs({F:eq_F.rhs})\n",
    "T"
   ]
  },
  {
   "cell_type": "code",
   "execution_count": 16,
   "metadata": {
    "scrolled": true
   },
   "outputs": [
    {
     "data": {
      "image/png": "[encoded data removed]",
      "text/latex": [
       "$$0$$"
      ],
      "text/plain": [
       "0"
      ]
     },
     "execution_count": 16,
     "metadata": {},
     "output_type": "execute_result"
    }
   ],
   "source": [
    "simplify(T)"
   ]
  },
  {
   "cell_type": "markdown",
   "metadata": {},
   "source": [
    "## Conteggio dei cammini 2-Motzkin"
   ]
  },
  {
   "cell_type": "markdown",
   "metadata": {},
   "source": [
    "Si procede con il verificare che il numero di cammini 2-Motzkin è uguale a $$C^2=\\frac{1}{n+1}\\binom{2n+2}{n}$$"
   ]
  },
  {
   "cell_type": "markdown",
   "metadata": {},
   "source": [
    "Quindi si determinano tutte le sequenze di lunghezza n, composte da quattro elementi, che corrispondono alle quattro diverse tipologie di passi che possono essere presenti in un cammino 2-Motzkin. Successivamente si eliminano le sequenze che non rappresentano un cammino 2-Motzkin e si verifica che il numero di cammini ottenuti è uguale a $C^2$."
   ]
  },
  {
   "cell_type": "markdown",
   "metadata": {},
   "source": [
    "Nell'implementazione si identifica ogni possibile passo con un numero intero positivo: 0 movimento verso l'alto a destra, 1 movimento in orizzontale rosso, 2 movimento orizzontale verde, 3 movimento verso il basso a destra. "
   ]
  },
  {
   "cell_type": "code",
   "execution_count": 17,
   "metadata": {},
   "outputs": [
    {
     "data": {
      "image/png": "[encoded data removed]",
      "text/latex": [
       "$$\\left( n \\mapsto \\frac{{\\binom{2 n + 2}{n}}}{n + 1} \\right)$$"
      ],
      "text/plain": [
       "    ⎛2⋅n + 2⎞\n",
       "    ⎜       ⎟\n",
       "    ⎝   n   ⎠\n",
       "n ↦ ─────────\n",
       "      n + 1  "
      ]
     },
     "execution_count": 17,
     "metadata": {},
     "output_type": "execute_result"
    }
   ],
   "source": [
    "#definisco C2\n",
    "C2=Lambda([n], 1/(n+1)*binomial((2*n+2),n))\n",
    "C2"
   ]
  },
  {
   "cell_type": "code",
   "execution_count": 18,
   "metadata": {},
   "outputs": [
    {
     "data": {
      "image/png": "[encoded data removed]",
      "text/latex": [
       "$$1024$$"
      ],
      "text/plain": [
       "1024"
      ]
     },
     "execution_count": 18,
     "metadata": {},
     "output_type": "execute_result"
    }
   ],
   "source": [
    "pow(4,5)"
   ]
  },
  {
   "cell_type": "code",
   "execution_count": 19,
   "metadata": {},
   "outputs": [
    {
     "data": {
      "image/png": "[encoded data removed]",
      "text/latex": [
       "$$14$$"
      ],
      "text/plain": [
       "14"
      ]
     },
     "execution_count": 19,
     "metadata": {},
     "output_type": "execute_result"
    }
   ],
   "source": [
    "C2(3)"
   ]
  },
  {
   "cell_type": "code",
   "execution_count": 20,
   "metadata": {},
   "outputs": [],
   "source": [
    "#crea tutte le possibili sequenze di lunghezza N composte da solo n elementi\n",
    "\n",
    "def createAllSequenceList(N, n):\n",
    "    result=[]\n",
    "    x=[0 for i in range(N)] #inizia costruendo la sequenza nulla\n",
    "    result.append(x.copy())\n",
    "\n",
    "    j=N-1\n",
    "    k=N-1\n",
    "    while k>=0:\n",
    "        if x[j]+1==n: #l'elemento della sequenza è massimo\n",
    "            k=j\n",
    "            while x[k]+1==n and k>=0: #cerco il primo elenmento non massimo\n",
    "                k=k-1\n",
    "            if k>=0:\n",
    "                x[k]=x[k]+1\n",
    "                j=N-1\n",
    "                for i in range(k+1, N): #metto a zero tutti gli elementi a destra di quello implementato\n",
    "                    x[i] = 0\n",
    "        else: #l'elemento della sequenza non è il massimo: posso incrementare\n",
    "            x[j]=x[j]+1\n",
    "        result.append(x.copy())#aggiungo la sequenza corrente in coda alla lista\n",
    "    result.pop()\n",
    "    return result"
   ]
  },
  {
   "cell_type": "code",
   "execution_count": 21,
   "metadata": {},
   "outputs": [
    {
     "data": {
      "image/png": "[encoded data removed]",
      "text/latex": [
       "$$1024$$"
      ],
      "text/plain": [
       "1024"
      ]
     },
     "execution_count": 21,
     "metadata": {},
     "output_type": "execute_result"
    }
   ],
   "source": [
    "myList=createAllSequenceList(5,4)\n",
    "myList\n",
    "len(myList)"
   ]
  },
  {
   "cell_type": "code",
   "execution_count": 22,
   "metadata": {},
   "outputs": [],
   "source": [
    "#Data la lista delle sequenze di dimensione N con numeri fra 0 e 3. Restituisco le sequenze che rappresentano i cammini\n",
    "#2-Motzkin di lunghezza N\n",
    "\n",
    "def find2MontzkinPath(N, L):\n",
    "    temp=L.copy()\n",
    "    for k in range(len(temp)):\n",
    "        s=temp[k]       #considero la sequenza k-esima\n",
    "        stack=[]        \n",
    "        for i in range(N):\n",
    "            if s[i]==0:\n",
    "                stack.append(0)     #uso una pila per ricordami che ho fatto un passo verso l'alto \n",
    "            if s[i]==3:\n",
    "                if len(stack)!=0:\n",
    "                    stack.remove(0)\n",
    "                else:\n",
    "                    temp[k]=0     #le sequenze scartate vengono eliminate ponendo a zero la cella della lista\n",
    "        if len(stack)>0:    #mi assicuro di essere sull'asse delle x\n",
    "            temp[k] = 0\n",
    "\n",
    "    result=[]\n",
    "    for i in range(len(temp)):   #creo una lista con le sequenze che rappresentano i cammini 2-Motzkin: ignoro gli 0 \n",
    "        if temp[i]!=0:\n",
    "            result.append(temp[i])\n",
    "    return result\n",
    "\n"
   ]
  },
  {
   "cell_type": "code",
   "execution_count": 23,
   "metadata": {},
   "outputs": [
    {
     "data": {
      "image/png": "[encoded data removed]",
      "text/latex": [
       "$$132$$"
      ],
      "text/plain": [
       "132"
      ]
     },
     "execution_count": 23,
     "metadata": {},
     "output_type": "execute_result"
    }
   ],
   "source": [
    "Motzkin2PathInMyList=find2MontzkinPath(5, myList)\n",
    "len(Motzkin2PathInMyList)"
   ]
  },
  {
   "cell_type": "code",
   "execution_count": 24,
   "metadata": {},
   "outputs": [
    {
     "data": {
      "image/png": "[encoded data removed]",
      "text/latex": [
       "$$132$$"
      ],
      "text/plain": [
       "132"
      ]
     },
     "execution_count": 24,
     "metadata": {},
     "output_type": "execute_result"
    }
   ],
   "source": [
    "C2(5)"
   ]
  },
  {
   "cell_type": "markdown",
   "metadata": {},
   "source": [
    "Nel caso precedente abbiamo verificato la formula usando cammini formati da 5 passi, lo si può anche verificare per n passi generici. Con la function successiva lo si verifica per tutti gli n da 1 a 10."
   ]
  },
  {
   "cell_type": "code",
   "execution_count": 25,
   "metadata": {},
   "outputs": [],
   "source": [
    "#Dimostro che per tutti i cammini 2-Motzkin che terminano in (0,n) di lunghezza n vale C^2\n",
    "\n",
    "def provaTutte(limit):\n",
    "    r=[]\n",
    "    for i in range(1, limit):\n",
    "        L=createAllSequenceList(i, 4);\n",
    "        result=find2MontzkinPath(i, L);\n",
    "        r.append([len(result), C2(i)])\n",
    "    return r\n",
    "    "
   ]
  },
  {
   "cell_type": "code",
   "execution_count": 26,
   "metadata": {},
   "outputs": [
    {
     "name": "stdout",
     "output_type": "stream",
     "text": [
      "[[2, 2], [5, 5], [14, 14], [42, 42], [132, 132], [429, 429], [1430, 1430], [4862, 4862], [16796, 16796]]\n"
     ]
    }
   ],
   "source": [
    "r=provaTutte(10)\n",
    "print(r.__str__())"
   ]
  },
  {
   "cell_type": "markdown",
   "metadata": {},
   "source": [
    "## Conteggio dei cammini 2-Motzkin Fine"
   ]
  },
  {
   "cell_type": "markdown",
   "metadata": {},
   "source": [
    "Si procede quindi con la generazione e il conteggio dei 2-Motzkin Fine paths, ossia dei cammini 2-Motzkin senza level steps ad altezza 0, utilizzando la seguente function che prende in input una lista di cammini 2-Motzkin e il numero di passi che li compongono."
   ]
  },
  {
   "cell_type": "code",
   "execution_count": 27,
   "metadata": {},
   "outputs": [],
   "source": [
    "def find2MontzkinFinePath(stepNumber, list):\n",
    "    listCopy=list.copy()\n",
    "    for k in range(len(listCopy)):\n",
    "    \theight=0;\n",
    "    \ts=listCopy[k]\n",
    "    \tstack=[]\n",
    "    \tfor i in range(stepNumber):\n",
    "    \t\tif s[i]==0:\n",
    "    \t\t\theight=height+1\n",
    "    \t\tif s[i]==3:\n",
    "    \t\t\theight=height-1\n",
    "    \t\telse:\n",
    "    \t\t\tif (height==0):\n",
    "    \t\t\t\tlistCopy[k]=0\n",
    "    \t\t\t\tbreak;\n",
    "    result=[]\n",
    "    for i in range(len(listCopy)):\n",
    "        if listCopy[i]!=0:\n",
    "            result.append(listCopy[i])\n",
    "\n",
    "    return result"
   ]
  },
  {
   "cell_type": "code",
   "execution_count": 28,
   "metadata": {},
   "outputs": [
    {
     "data": {
      "image/png": "[encoded data removed]",
      "text/latex": [
       "$$18$$"
      ],
      "text/plain": [
       "18"
      ]
     },
     "execution_count": 28,
     "metadata": {},
     "output_type": "execute_result"
    }
   ],
   "source": [
    "Motzkin2FinePathInMyList=find2MontzkinFinePath(5, Motzkin2PathInMyList)\n",
    "len(Motzkin2FinePathInMyList)"
   ]
  },
  {
   "cell_type": "markdown",
   "metadata": {},
   "source": [
    "Si verifica quindi la seguente approssimazione riportata nell'articolo:"
   ]
  },
  {
   "cell_type": "code",
   "execution_count": 29,
   "metadata": {},
   "outputs": [
    {
     "data": {
      "image/png": "[encoded data removed]",
      "text/latex": [
       "$$\\left( n \\mapsto \\frac{{\\binom{2 n}{n}}}{n + 1} \\right)$$"
      ],
      "text/plain": [
       "    ⎛2⋅n⎞\n",
       "    ⎜   ⎟\n",
       "    ⎝ n ⎠\n",
       "n ↦ ─────\n",
       "    n + 1"
      ]
     },
     "execution_count": 29,
     "metadata": {},
     "output_type": "execute_result"
    }
   ],
   "source": [
    "#definisco F\n",
    "F=Lambda([n], 1/(n+1)*binomial(2*n,n))\n",
    "F"
   ]
  },
  {
   "cell_type": "code",
   "execution_count": 30,
   "metadata": {},
   "outputs": [
    {
     "data": {
      "image/png": "[encoded data removed]",
      "text/latex": [
       "$$18.6666666666667$$"
      ],
      "text/plain": [
       "18.6666666666667"
      ]
     },
     "execution_count": 30,
     "metadata": {},
     "output_type": "execute_result"
    }
   ],
   "source": [
    "4/9*F(5)"
   ]
  },
  {
   "cell_type": "markdown",
   "metadata": {},
   "source": [
    "Successivamente si è cercato anche di verificarne il numero esatto utilizzando due metodi presentati in: http://oeis.org/A000957.  \n",
    "Il *primo* consiste nell'applicazione della seguente procedura:"
   ]
  },
  {
   "cell_type": "code",
   "execution_count": 31,
   "metadata": {},
   "outputs": [],
   "source": [
    "def preciseResult(n):\n",
    "    n=n+1  #i numeri di Fine sono spostati di una posizione verso destra\n",
    "    result=0\n",
    "    if n==0:\n",
    "        result=0\n",
    "    else:\n",
    "        for k in range(0,n):\n",
    "            result=result+((-1)**(n+k-1)*binomial(n+k-1,n-1)*(n-k))/n;\n",
    "    return result"
   ]
  },
  {
   "cell_type": "code",
   "execution_count": 32,
   "metadata": {},
   "outputs": [
    {
     "data": {
      "image/png": "[encoded data removed]",
      "text/latex": [
       "$$18$$"
      ],
      "text/plain": [
       "18"
      ]
     },
     "execution_count": 32,
     "metadata": {},
     "output_type": "execute_result"
    }
   ],
   "source": [
    "preciseResult(5)"
   ]
  },
  {
   "cell_type": "markdown",
   "metadata": {},
   "source": [
    "Il *secondo metodo* invece consiste nell'estrarre l'n-esimo coefficiente della funzione generatrice dei numeri Fine.\n",
    "\n"
   ]
  },
  {
   "cell_type": "code",
   "execution_count": 32,
   "metadata": {},
   "outputs": [
    {
     "data": {
      "image/png": "[encoded data removed]",
      "text/latex": [
       "$$1 + x^{2} + 2 x^{3} + 6 x^{4} + 18 x^{5} + 57 x^{6} + 186 x^{7} + 622 x^{8} + 2120 x^{9} + \\mathcal{O}\\left(x^{10}\\right)$$"
      ],
      "text/plain": [
       "     2      3      4       5       6        7        8         9    ⎛ 10⎞\n",
       "1 + x  + 2⋅x  + 6⋅x  + 18⋅x  + 57⋅x  + 186⋅x  + 622⋅x  + 2120⋅x  + O⎝x  ⎠"
      ]
     },
     "execution_count": 32,
     "metadata": {},
     "output_type": "execute_result"
    }
   ],
   "source": [
    "fn= Lambda([x], (1/x)*((1-sqrt(1-4*x))/(3-sqrt(1-4*x))))\n",
    "t=series(fn(x), x, n=10)\n",
    "t"
   ]
  },
  {
   "cell_type": "code",
   "execution_count": 55,
   "metadata": {},
   "outputs": [
    {
     "data": {
      "image/png": "[encoded data removed]",
      "text/latex": [
       "$$18$$"
      ],
      "text/plain": [
       "18"
      ]
     },
     "execution_count": 55,
     "metadata": {},
     "output_type": "execute_result"
    }
   ],
   "source": [
    "coeffs=t.coeff(x**5)   #restituisce il coefficiente di grado 5\n",
    "coeffs"
   ]
  },
  {
   "cell_type": "markdown",
   "metadata": {},
   "source": [
    "Possiamo quindi vedere che il quinto coefficiente è proprio 18."
   ]
  },
  {
   "cell_type": "code",
   "execution_count": 46,
   "metadata": {},
   "outputs": [],
   "source": [
    "#Dimostro che per tutti i cammini 2-Motzkin fine che terminano in (0,n) di lunghezza n vale preciseResult\n",
    "\n",
    "def provaTutteFinePrimoMetodo(limit):\n",
    "    r=[]\n",
    "    for i in range(1, limit):\n",
    "        L=createAllSequenceList(i, 4);\n",
    "        mpath=find2MontzkinPath(i, L);\n",
    "        smpath=find2MontzkinFinePath (i, mpath)\n",
    "        r.append([len(smpath), preciseResult(i)])\n",
    "    return r\n",
    "    "
   ]
  },
  {
   "cell_type": "code",
   "execution_count": 47,
   "metadata": {},
   "outputs": [
    {
     "name": "stdout",
     "output_type": "stream",
     "text": [
      "[[0, 0], [1, 1], [2, 2], [6, 6], [18, 18], [57, 57], [186, 186], [622, 622], [2120, 2120]]\n"
     ]
    }
   ],
   "source": [
    "r=provaTutteFinePrimoMetodo(10)\n",
    "print(r.__str__())"
   ]
  },
  {
   "cell_type": "code",
   "execution_count": 44,
   "metadata": {},
   "outputs": [],
   "source": [
    "#Dimostro che per tutti i cammini 2-Motzkin fine che terminano in (0,n) di lunghezza n è il coeff n-esimo\n",
    "#della corrispondente funzione generatrice\n",
    "\n",
    "def provaTutteFineSecondoMetodo(limit):\n",
    "    r=[]\n",
    "    fn= Lambda([x], (1/x)*((1-sqrt(1-4*x))/(3-sqrt(1-4*x))))\n",
    "    t=series(fn(x), x, n=limit+1)\n",
    "    for i in range(1, limit):\n",
    "        L=createAllSequenceList(i, 4);\n",
    "        mpath=find2MontzkinPath(i, L);\n",
    "        smpath=find2MontzkinFinePath(i, mpath)\n",
    "        coeffs=t.coeff(x**i)     \n",
    "        r.append([len(smpath), coeffs])\n",
    "    return r"
   ]
  },
  {
   "cell_type": "code",
   "execution_count": 45,
   "metadata": {},
   "outputs": [
    {
     "name": "stdout",
     "output_type": "stream",
     "text": [
      "[[0, 0], [1, 1], [2, 2], [6, 6], [18, 18], [57, 57], [186, 186], [622, 622], [2120, 2120]]\n"
     ]
    }
   ],
   "source": [
    "r=provaTutteFineSecondoMetodo(10)\n",
    "print(r.__str__())"
   ]
  },
  {
   "cell_type": "markdown",
   "metadata": {},
   "source": [
    "## Generalizzazione: ***b***-Montzkin numbers"
   ]
  },
  {
   "cell_type": "code",
   "execution_count": null,
   "metadata": {},
   "outputs": [],
   "source": [
    "## Generalizzazione: ***b***-Montzkin numbers"
   ]
  },
  {
   "cell_type": "markdown",
   "metadata": {},
   "source": [
    "## Conteggio passi orizzontali cammini 2-Montzkin"
   ]
  },
  {
   "cell_type": "markdown",
   "metadata": {},
   "source": [
    "Usando le Figure 1 e 2 dell'articolo come guida. Si osserva che il numero totale di passi orizzontali ad altezza 0 di tutti i cammini 2-Motzkin di lunghezza $n$  è dato dalla seguente espressione:\n",
    "$$L_0=[z^n]2zC^4=\\frac{4n}{(n+1)(n+3)}\\binom{2n+2}{n}$$"
   ]
  },
  {
   "cell_type": "markdown",
   "metadata": {},
   "source": [
    "Il numero totale di passi orizzontali ad altezza 1 di tutti cammini 2-Montzkin di lunghezza $n$ è dato dalla seguente espressione:\n",
    "$$L_1=[z^n]2z^3C^8=\\frac{8}{n+1}\\binom{2n+2}{n-3}$$"
   ]
  },
  {
   "cell_type": "markdown",
   "metadata": {},
   "source": [
    "Il numero totale di passi orizzontali ad altezza generica $k$ di tutti cammini 2-Montzkin di lunghezza $n$ è dato dalla seguente espressione:\n",
    "$$L_k=[z^n]2z^{2k+1}C^{4k+4}=\\sum_{k\\geq1}2\\binom{2n}{n-1}z^n$$"
   ]
  },
  {
   "cell_type": "markdown",
   "metadata": {},
   "source": [
    "Dimostriamo sperimentalmente le precedenti identità."
   ]
  },
  {
   "cell_type": "code",
   "execution_count": 36,
   "metadata": {},
   "outputs": [
    {
     "data": {
      "image/png": "[encoded data removed]",
      "text/latex": [
       "$$\\left( n \\mapsto \\frac{4 n {\\binom{2 n + 2}{n}}}{\\left(n + 1\\right) \\left(n + 3\\right)} \\right)$$"
      ],
      "text/plain": [
       "         ⎛2⋅n + 2⎞ \n",
       "     4⋅n⋅⎜       ⎟ \n",
       "         ⎝   n   ⎠ \n",
       "n ↦ ───────────────\n",
       "    (n + 1)⋅(n + 3)"
      ]
     },
     "execution_count": 36,
     "metadata": {},
     "output_type": "execute_result"
    }
   ],
   "source": [
    "#definisco L0\n",
    "L0=Lambda([n], 4*n/((n+1)*(n+3))*binomial(2*n+2,n))\n",
    "L0"
   ]
  },
  {
   "cell_type": "code",
   "execution_count": 56,
   "metadata": {},
   "outputs": [
    {
     "data": {
      "image/png": "[encoded data removed]",
      "text/latex": [
       "$$\\left( n \\mapsto \\frac{8}{n + 1} {\\binom{2 n + 2}{n - 3}} \\right)$$"
      ],
      "text/plain": [
       "      ⎛2⋅n + 2⎞\n",
       "    8⋅⎜       ⎟\n",
       "      ⎝ n - 3 ⎠\n",
       "n ↦ ───────────\n",
       "       n + 1   "
      ]
     },
     "execution_count": 56,
     "metadata": {},
     "output_type": "execute_result"
    }
   ],
   "source": [
    "#definisco L1\n",
    "L1=Lambda([n], 8/(n+1)*binomial(2*n+2,n-3))\n",
    "L1"
   ]
  },
  {
   "cell_type": "code",
   "execution_count": 38,
   "metadata": {},
   "outputs": [
    {
     "data": {
      "image/png": "[encoded data removed]",
      "text/latex": [
       "$$\\left( n \\mapsto 2 {\\binom{2 n}{n - 1}} \\right)$$"
      ],
      "text/plain": [
       "      ⎛ 2⋅n ⎞\n",
       "n ↦ 2⋅⎜     ⎟\n",
       "      ⎝n - 1⎠"
      ]
     },
     "execution_count": 38,
     "metadata": {},
     "output_type": "execute_result"
    }
   ],
   "source": [
    "#definisco Lk\n",
    "Lk=Lambda([n], 2*binomial(2*n, n-1))\n",
    "Lk"
   ]
  },
  {
   "cell_type": "code",
   "execution_count": 39,
   "metadata": {},
   "outputs": [],
   "source": [
    "from math import ceil"
   ]
  },
  {
   "cell_type": "code",
   "execution_count": 40,
   "metadata": {},
   "outputs": [],
   "source": [
    "#Determina per una sequenza 2-Motzkin di lunghezza N il numero di passi orizzontali a ciascun livello. Restituisce un array in cui in ogni cella i\n",
    "#viene riportato il numero di passi orizzontali a livello i.\n",
    "def numberOfLevelStepsSequence(S):\n",
    "    N=len(S)\n",
    "    r=[]\n",
    "    n=ceil(N/2)\n",
    "    for i in range(n):\n",
    "        r.append(0)\n",
    "\n",
    "    level=0\n",
    "    for step in S:\n",
    "        if step==0:\n",
    "            level=level+1\n",
    "        elif step==3:\n",
    "            level=level-1\n",
    "        else:\n",
    "            if step==1 or step==2:\n",
    "                r[level]=r[level]+1\n",
    "\n",
    "    return r\n"
   ]
  },
  {
   "cell_type": "code",
   "execution_count": 41,
   "metadata": {},
   "outputs": [],
   "source": [
    "#Calcolo il numero totale di passi orizzontali per ogni sequenza 2-Motzkin di lunghezza N. Restituisce un array contenente in ogni cella i\n",
    "#il totale dei passi orizzontali al livello i.\n",
    "def numberOfLevelSteps(N, L):\n",
    "    numberOfSteps = []\n",
    "    for i in range(len(L)):\n",
    "        r = numberOfLevelStepsSequence(L[i]) #calcolo i conteggi per la i-esima sequenza\n",
    "        r=r.copy()\n",
    "        if i==0:\n",
    "            numberOfSteps=r #inizializzo numberOfSteps con i conteggi della prima sequenza \n",
    "        else:\n",
    "            for j in range(len(r)):\n",
    "                numberOfSteps[j]=numberOfSteps[j]+r[j] #aggiorno i conteggi considerando anche quelli per la nuova sequenza\n",
    "\n",
    "    return numberOfSteps"
   ]
  },
  {
   "cell_type": "code",
   "execution_count": 42,
   "metadata": {},
   "outputs": [],
   "source": [
    "#Uso questa procedura per dimostrare che valgono le identità\n",
    "def provaTutte(N, level):\n",
    "    numberOfSteps=0\n",
    "    L=createAllSequenceList(N, 4)\n",
    "    L=find2MontzkinPath(N, L)\n",
    "    r=numberOfLevelSteps(N,L)\n",
    "    if level==-1: #calcolo il numero totale di passi orizzontali\n",
    "        sum=0\n",
    "        for c in r: #sommo tutti i conteggi dei passi di tutti i livelli\n",
    "            sum=sum+c\n",
    "        numberOfSteps=sum\n",
    "    elif level==0: #prendo il numero di passi al livello 0\n",
    "        numberOfSteps=r[level]\n",
    "    else: #prendo il numero di passi al livello 1\n",
    "        if len(r)==1: #il numero di passi al livello 1 si trova nella posizione 0 se il vettore ha dimensione 1;\n",
    "            numberOfSteps=0  \n",
    "        else: \n",
    "            numberOfSteps=r[level] \n",
    "    return numberOfSteps\n",
    "            "
   ]
  },
  {
   "cell_type": "code",
   "execution_count": 43,
   "metadata": {},
   "outputs": [
    {
     "data": {
      "image/png": "[encoded data removed]",
      "text/latex": [
       "$$\\left [ \\left [ 2, \\quad 2\\right ], \\quad \\left [ 8, \\quad 8\\right ], \\quad \\left [ 28, \\quad 28\\right ], \\quad \\left [ 96, \\quad 96\\right ], \\quad \\left [ 330, \\quad 330\\right ], \\quad \\left [ 1144, \\quad 1144\\right ], \\quad \\left [ 4004, \\quad 4004\\right ], \\quad \\left [ 14144, \\quad 14144\\right ], \\quad \\left [ 50388, \\quad 50388\\right ]\\right ]$$"
      ],
      "text/plain": [
       "[[2, 2], [8, 8], [28, 28], [96, 96], [330, 330], [1144, 1144], [4004, 4004], [\n",
       "14144, 14144], [50388, 50388]]"
      ]
     },
     "execution_count": 43,
     "metadata": {},
     "output_type": "execute_result"
    }
   ],
   "source": [
    "#Livello 0\n",
    "[[provaTutte(i, 0), L0(i)] for i in range(1,10)]"
   ]
  },
  {
   "cell_type": "code",
   "execution_count": 57,
   "metadata": {},
   "outputs": [
    {
     "data": {
      "image/png": "[encoded data removed]",
      "text/latex": [
       "$$\\left [ \\left [ 0, \\quad 0\\right ], \\quad \\left [ 0, \\quad 0\\right ], \\quad \\left [ 2, \\quad 2\\right ], \\quad \\left [ 16, \\quad 16\\right ], \\quad \\left [ 88, \\quad 88\\right ], \\quad \\left [ 416, \\quad 416\\right ], \\quad \\left [ 1820, \\quad 1820\\right ], \\quad \\left [ 7616, \\quad 7616\\right ], \\quad \\left [ 31008, \\quad 31008\\right ]\\right ]$$"
      ],
      "text/plain": [
       "[[0, 0], [0, 0], [2, 2], [16, 16], [88, 88], [416, 416], [1820, 1820], [7616, \n",
       "7616], [31008, 31008]]"
      ]
     },
     "execution_count": 57,
     "metadata": {},
     "output_type": "execute_result"
    }
   ],
   "source": [
    "#livello 1\n",
    "[[provaTutte(i, 1), L1(i)] for i in range(1,10)]"
   ]
  },
  {
   "cell_type": "code",
   "execution_count": 45,
   "metadata": {},
   "outputs": [
    {
     "data": {
      "image/png": "[encoded data removed]",
      "text/latex": [
       "$$\\left [ \\left [ 2, \\quad 2\\right ], \\quad \\left [ 8, \\quad 8\\right ], \\quad \\left [ 30, \\quad 30\\right ], \\quad \\left [ 112, \\quad 112\\right ], \\quad \\left [ 420, \\quad 420\\right ], \\quad \\left [ 1584, \\quad 1584\\right ], \\quad \\left [ 6006, \\quad 6006\\right ], \\quad \\left [ 22880, \\quad 22880\\right ], \\quad \\left [ 87516, \\quad 87516\\right ]\\right ]$$"
      ],
      "text/plain": [
       "[[2, 2], [8, 8], [30, 30], [112, 112], [420, 420], [1584, 1584], [6006, 6006],\n",
       " [22880, 22880], [87516, 87516]]"
      ]
     },
     "execution_count": 45,
     "metadata": {},
     "output_type": "execute_result"
    }
   ],
   "source": [
    "#livello generico k\n",
    "[[provaTutte(i, -1), Lk(i)] for i in range(1,10)]"
   ]
  }
 ],
 "metadata": {
  "kernelspec": {
   "display_name": "Python 3",
   "language": "python",
   "name": "python3"
  },
  "language_info": {
   "codemirror_mode": {
    "name": "ipython",
    "version": 3
   },
   "file_extension": ".py",
   "mimetype": "text/x-python",
   "name": "python",
   "nbconvert_exporter": "python",
   "pygments_lexer": "ipython3",
   "version": "3.7.0"
  }
 },
 "nbformat": 4,
 "nbformat_minor": 2
}
