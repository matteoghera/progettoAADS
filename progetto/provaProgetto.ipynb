{
 "cells": [
  {
   "cell_type": "markdown",
   "metadata": {},
   "source": [
    "La funzione generatrice per i numeri Fine è:\n",
    "$$F=\\sum_{n=0}^{\\infty}F_nz^n=\\frac{1-\\sqrt{1-4z}}{z(3-\\sqrt{1-4z})}$$"
   ]
  },
  {
   "cell_type": "markdown",
   "metadata": {},
   "source": [
    "Usando le seguenti identità sulla funzione generatrice dei numeri di Catalan: \n",
    "$$ C=1+zC^2=\\frac{1-\\sqrt{1-4z}}{2z}=\\sum_{n\\geq0}\\frac{1}{n+1}\\binom{2n}{n}z^n$$\n",
    "$$ B=1+2zBC=\\frac{1}{\\sqrt{1-4z}}=\\sum_{n\\geq0}\\binom{2n}{n}z^n$$"
   ]
  },
  {
   "cell_type": "markdown",
   "metadata": {},
   "source": [
    "Dimostro le seguenti proprietà:\n",
    "<ol>    \n",
    "    <li> $$\\frac{B}{C}=\\frac{B+1}{2}$$ </li><br /><br />\n",
    "    <li> $$C=\\frac{F}{1-2zF} $$</li><br /><br />\n",
    "    <li> $$C^2=\\frac{F}{1-2zF}$$</li> \n",
    "</ol>"
   ]
  },
  {
   "cell_type": "markdown",
   "metadata": {},
   "source": [
    "La funzione $C^2$ conta il camminini 2-Motzkin"
   ]
  },
  {
   "cell_type": "code",
   "execution_count": 1,
   "metadata": {},
   "outputs": [],
   "source": [
    "from sympy.abc import * # a collection of already-defined terms, such as `alpha, a, b, x, y, t, ...`\n",
    "\n",
    "from sympy import *\n",
    "from sympy.plotting import plot"
   ]
  },
  {
   "cell_type": "code",
   "execution_count": 2,
   "metadata": {},
   "outputs": [],
   "source": [
    "from commons import * # import our own functions, to define things in particular."
   ]
  },
  {
   "cell_type": "code",
   "execution_count": 3,
   "metadata": {},
   "outputs": [],
   "source": [
    "init_printing()"
   ]
  },
  {
   "cell_type": "code",
   "execution_count": 4,
   "metadata": {},
   "outputs": [
    {
     "data": {
      "image/png": "[encoded data removed]",
      "text/latex": [
       "$$F = \\frac{- \\sqrt{- 4 z + 1} + 1}{z \\left(- \\sqrt{- 4 z + 1} + 3\\right)}$$"
      ],
      "text/plain": [
       "          __________      \n",
       "      - ╲╱ -4⋅z + 1  + 1  \n",
       "F = ──────────────────────\n",
       "      ⎛    __________    ⎞\n",
       "    z⋅⎝- ╲╱ -4⋅z + 1  + 3⎠"
      ]
     },
     "execution_count": 4,
     "metadata": {},
     "output_type": "execute_result"
    }
   ],
   "source": [
    "#definisco F\n",
    "expression_F=(1-sqrt(1-4*z))/(z*(3-sqrt(1-4*z)))\n",
    "eq_F=define(F, expression_F)\n",
    "eq_F"
   ]
  },
  {
   "cell_type": "code",
   "execution_count": 15,
   "metadata": {},
   "outputs": [
    {
     "data": {
      "image/png": "[encoded data removed]",
      "text/latex": [
       "$$G = \\frac{1}{2 z} \\left(- \\sqrt{- 4 z + 1} + 1\\right)$$"
      ],
      "text/plain": [
       "        __________    \n",
       "    - ╲╱ -4⋅z + 1  + 1\n",
       "G = ──────────────────\n",
       "           2⋅z        "
      ]
     },
     "execution_count": 15,
     "metadata": {},
     "output_type": "execute_result"
    }
   ],
   "source": [
    "#definisco C\n",
    "expression_C=(1-sqrt(1-4*z))/(2*z)\n",
    "eq_C=define(G, expression_C)\n",
    "eq_C"
   ]
  },
  {
   "cell_type": "code",
   "execution_count": 6,
   "metadata": {},
   "outputs": [
    {
     "data": {
      "image/png": "[encoded data removed]",
      "text/latex": [
       "$$B = \\frac{1}{\\sqrt{- 4 z + 1}}$$"
      ],
      "text/plain": [
       "         1      \n",
       "B = ────────────\n",
       "      __________\n",
       "    ╲╱ -4⋅z + 1 "
      ]
     },
     "execution_count": 6,
     "metadata": {},
     "output_type": "execute_result"
    }
   ],
   "source": [
    "#definisco B\n",
    "expression_B=1/sqrt(1-4*z)\n",
    "eq_B=define(B, expression_B)\n",
    "eq_B"
   ]
  },
  {
   "cell_type": "markdown",
   "metadata": {},
   "source": [
    "Verifico 1."
   ]
  },
  {
   "cell_type": "code",
   "execution_count": 7,
   "metadata": {},
   "outputs": [
    {
     "data": {
      "image/png": "[encoded data removed]",
      "text/latex": [
       "$$\\frac{2 z}{4 z + \\sqrt{- 4 z + 1} - 1}$$"
      ],
      "text/plain": [
       "         2⋅z          \n",
       "──────────────────────\n",
       "        __________    \n",
       "4⋅z + ╲╱ -4⋅z + 1  - 1"
      ]
     },
     "execution_count": 7,
     "metadata": {},
     "output_type": "execute_result"
    }
   ],
   "source": [
    "eq_left=eq_B.rhs/eq_C.rhs\n",
    "simplify(eq_left)"
   ]
  },
  {
   "cell_type": "code",
   "execution_count": 8,
   "metadata": {},
   "outputs": [
    {
     "data": {
      "image/png": "[encoded data removed]",
      "text/latex": [
       "$$\\frac{1}{2} + \\frac{1}{2 \\sqrt{- 4 z + 1}}$$"
      ],
      "text/plain": [
       "1         1       \n",
       "─ + ──────────────\n",
       "2       __________\n",
       "    2⋅╲╱ -4⋅z + 1 "
      ]
     },
     "execution_count": 8,
     "metadata": {},
     "output_type": "execute_result"
    }
   ],
   "source": [
    "eq_right=(eq_B.rhs+1)/2\n",
    "simplify(eq_right)"
   ]
  },
  {
   "cell_type": "code",
   "execution_count": 9,
   "metadata": {},
   "outputs": [
    {
     "data": {
      "image/png": "[encoded data removed]",
      "text/latex": [
       "$$0$$"
      ],
      "text/plain": [
       "0"
      ]
     },
     "execution_count": 9,
     "metadata": {},
     "output_type": "execute_result"
    }
   ],
   "source": [
    "simplify(eq_left-eq_right)"
   ]
  },
  {
   "cell_type": "markdown",
   "metadata": {},
   "source": [
    "Verfico 2."
   ]
  },
  {
   "cell_type": "code",
   "execution_count": 10,
   "metadata": {},
   "outputs": [
    {
     "data": {
      "image/png": "[encoded data removed]",
      "text/latex": [
       "$$\\frac{1}{2 z} \\left(- \\sqrt{- 4 z + 1} + 1\\right)$$"
      ],
      "text/plain": [
       "    __________    \n",
       "- ╲╱ -4⋅z + 1  + 1\n",
       "──────────────────\n",
       "       2⋅z        "
      ]
     },
     "execution_count": 10,
     "metadata": {},
     "output_type": "execute_result"
    }
   ],
   "source": [
    "eq_right=(eq_F.rhs)/(1-(z*eq_F.rhs))\n",
    "simplify(eq_right)"
   ]
  },
  {
   "cell_type": "code",
   "execution_count": 11,
   "metadata": {},
   "outputs": [
    {
     "data": {
      "image/png": "[encoded data removed]",
      "text/latex": [
       "$$0$$"
      ],
      "text/plain": [
       "0"
      ]
     },
     "execution_count": 11,
     "metadata": {},
     "output_type": "execute_result"
    }
   ],
   "source": [
    "simplify(eq_right-(eq_C.rhs))"
   ]
  },
  {
   "cell_type": "markdown",
   "metadata": {},
   "source": [
    "Verfico 3."
   ]
  },
  {
   "cell_type": "code",
   "execution_count": 12,
   "metadata": {},
   "outputs": [
    {
     "data": {
      "image/png": "[encoded data removed]",
      "text/latex": [
       "$$\\frac{- \\sqrt{- 4 z + 1} + 1}{z \\left(\\sqrt{- 4 z + 1} + 1\\right)}$$"
      ],
      "text/plain": [
       "     __________     \n",
       " - ╲╱ -4⋅z + 1  + 1 \n",
       "────────────────────\n",
       "  ⎛  __________    ⎞\n",
       "z⋅⎝╲╱ -4⋅z + 1  + 1⎠"
      ]
     },
     "execution_count": 12,
     "metadata": {},
     "output_type": "execute_result"
    }
   ],
   "source": [
    "#calcolo di C2\n",
    "eq_right=simplify(eq_F.rhs/(1-(2*z*eq_F.rhs)))\n",
    "f=Lambda([z],eq_right)\n",
    "eq_right"
   ]
  },
  {
   "cell_type": "code",
   "execution_count": 13,
   "metadata": {},
   "outputs": [
    {
     "data": {
      "image/png": "[encoded data removed]",
      "text/latex": [
       "$$1 + 2 z + 5 z^{2} + 14 z^{3} + 42 z^{4} + 132 z^{5} + 429 z^{6} + 1430 z^{7} + 4862 z^{8} + 16796 z^{9} + 58786 z^{10} + 208012 z^{11} + 742900 z^{12} + 2674440 z^{13} + 9694845 z^{14} + 35357670 z^{15} + 129644790 z^{16} + 477638700 z^{17} + 1767263190 z^{18} + 6564120420 z^{19} + \\mathcal{O}\\left(z^{20}\\right)$$"
      ],
      "text/plain": [
       "             2       3       4        5        6         7         8          \n",
       "1 + 2⋅z + 5⋅z  + 14⋅z  + 42⋅z  + 132⋅z  + 429⋅z  + 1430⋅z  + 4862⋅z  + 16796⋅z\n",
       "\n",
       "9          10           11           12            13            14           \n",
       "  + 58786⋅z   + 208012⋅z   + 742900⋅z   + 2674440⋅z   + 9694845⋅z   + 35357670\n",
       "\n",
       "  15              16              17               18               19    ⎛ 20\n",
       "⋅z   + 129644790⋅z   + 477638700⋅z   + 1767263190⋅z   + 6564120420⋅z   + O⎝z  \n",
       "\n",
       "⎞\n",
       "⎠"
      ]
     },
     "execution_count": 13,
     "metadata": {},
     "output_type": "execute_result"
    }
   ],
   "source": [
    "g=Lambda([z],eq_C.rhs)\n",
    "series1=series(g(z), z, n=20)\n",
    "series2=series1*series1\n",
    "series2=Lambda([z], series2)\n",
    "series2=series(series2(z), z, n=20)\n",
    "series2"
   ]
  },
  {
   "cell_type": "code",
   "execution_count": 14,
   "metadata": {},
   "outputs": [
    {
     "data": {
      "image/png": "[encoded data removed]",
      "text/latex": [
       "$$1 + 2 z + 5 z^{2} + 14 z^{3} + 42 z^{4} + 132 z^{5} + 429 z^{6} + 1430 z^{7} + 4862 z^{8} + 16796 z^{9} + 58786 z^{10} + 208012 z^{11} + 742900 z^{12} + 2674440 z^{13} + 9694845 z^{14} + 35357670 z^{15} + 129644790 z^{16} + 477638700 z^{17} + 1767263190 z^{18} + 6564120420 z^{19} + \\mathcal{O}\\left(z^{20}\\right)$$"
      ],
      "text/plain": [
       "             2       3       4        5        6         7         8          \n",
       "1 + 2⋅z + 5⋅z  + 14⋅z  + 42⋅z  + 132⋅z  + 429⋅z  + 1430⋅z  + 4862⋅z  + 16796⋅z\n",
       "\n",
       "9          10           11           12            13            14           \n",
       "  + 58786⋅z   + 208012⋅z   + 742900⋅z   + 2674440⋅z   + 9694845⋅z   + 35357670\n",
       "\n",
       "  15              16              17               18               19    ⎛ 20\n",
       "⋅z   + 129644790⋅z   + 477638700⋅z   + 1767263190⋅z   + 6564120420⋅z   + O⎝z  \n",
       "\n",
       "⎞\n",
       "⎠"
      ]
     },
     "execution_count": 14,
     "metadata": {},
     "output_type": "execute_result"
    }
   ],
   "source": [
    "series(f(z), z, n=20)"
   ]
  },
  {
   "cell_type": "markdown",
   "metadata": {},
   "source": [
    "Dimostro il *Teorema 2.1* utilizzando Sympy"
   ]
  },
  {
   "cell_type": "code",
   "execution_count": 19,
   "metadata": {},
   "outputs": [
    {
     "data": {
      "image/png": "[encoded data removed]",
      "text/latex": [
       "$$F^{2} \\left(z^{2} + 2 z\\right) - F \\left(2 z + 1\\right) + 1$$"
      ],
      "text/plain": [
       " 2 ⎛ 2      ⎞                  \n",
       "F ⋅⎝z  + 2⋅z⎠ - F⋅(2⋅z + 1) + 1"
      ]
     },
     "execution_count": 19,
     "metadata": {},
     "output_type": "execute_result"
    }
   ],
   "source": [
    "expr=(((pow(z,2)+2*z)*pow(F,2)-((2*z+1)*F)+1))\n",
    "expr"
   ]
  },
  {
   "cell_type": "code",
   "execution_count": 26,
   "metadata": {},
   "outputs": [
    {
     "data": {
      "image/png": "[encoded data removed]",
      "text/latex": [
       "$$1 - \\frac{\\left(2 z + 1\\right) \\left(- \\sqrt{- 4 z + 1} + 1\\right)}{z \\left(- \\sqrt{- 4 z + 1} + 3\\right)} + \\frac{\\left(z^{2} + 2 z\\right) \\left(- \\sqrt{- 4 z + 1} + 1\\right)^{2}}{z^{2} \\left(- \\sqrt{- 4 z + 1} + 3\\right)^{2}}$$"
      ],
      "text/plain": [
       "                                                                    2\n",
       "              ⎛    __________    ⎞   ⎛ 2      ⎞ ⎛    __________    ⎞ \n",
       "    (2⋅z + 1)⋅⎝- ╲╱ -4⋅z + 1  + 1⎠   ⎝z  + 2⋅z⎠⋅⎝- ╲╱ -4⋅z + 1  + 1⎠ \n",
       "1 - ────────────────────────────── + ────────────────────────────────\n",
       "          ⎛    __________    ⎞                                  2    \n",
       "        z⋅⎝- ╲╱ -4⋅z + 1  + 3⎠            2 ⎛    __________    ⎞     \n",
       "                                         z ⋅⎝- ╲╱ -4⋅z + 1  + 3⎠     "
      ]
     },
     "execution_count": 26,
     "metadata": {},
     "output_type": "execute_result"
    }
   ],
   "source": [
    "T=expr.subs({F:eq_F.rhs})\n",
    "T"
   ]
  },
  {
   "cell_type": "code",
   "execution_count": 27,
   "metadata": {
    "scrolled": true
   },
   "outputs": [
    {
     "data": {
      "image/png": "[encoded data removed]",
      "text/latex": [
       "$$0$$"
      ],
      "text/plain": [
       "0"
      ]
     },
     "execution_count": 27,
     "metadata": {},
     "output_type": "execute_result"
    }
   ],
   "source": [
    "simplify(T)"
   ]
  },
  {
   "cell_type": "code",
   "execution_count": null,
   "metadata": {},
   "outputs": [],
   "source": []
  }
 ],
 "metadata": {
  "kernelspec": {
   "display_name": "Python 3",
   "language": "python",
   "name": "python3"
  },
  "language_info": {
   "codemirror_mode": {
    "name": "ipython",
    "version": 3
   },
   "file_extension": ".py",
   "mimetype": "text/x-python",
   "name": "python",
   "nbconvert_exporter": "python",
   "pygments_lexer": "ipython3",
   "version": "3.7.0"
  }
 },
 "nbformat": 4,
 "nbformat_minor": 2
}
